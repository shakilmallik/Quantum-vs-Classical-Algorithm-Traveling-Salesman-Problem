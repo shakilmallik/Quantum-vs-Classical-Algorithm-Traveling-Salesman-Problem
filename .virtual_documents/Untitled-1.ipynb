import numpy as np
import random
import matplotlib.pyplot as plt

# Set random seed for reproducibility
random.seed(42)
np.random.seed(42)

#Generate a Dataset (Cities)
def create_cities(n, xy_range=100):
    """Generate random coordinates for n cities."""
    return np.random.rand(n, 2) * xy_range

def distance_matrix(cities):
    """Compute an n x n Euclidean distance matrix."""
    n = len(cities)
    dmat = np.zeros((n, n))
    for i in range(n):
        for j in range(n):
            dmat[i, j] = np.linalg.norm(cities[i] - cities[j])
    return dmat

def tour_length(tour, dmat):
    """Calculate total length of a tour."""
    return sum(dmat[tour[i], tour[(i + 1) % len(tour)]] for i in range(len(tour)))

def initialize_population(pop_size, n_cities):
    """Create the initial population of random tours."""
    return [random.sample(range(n_cities), n_cities) for _ in range(pop_size)]

def fitness(population, dmat):
    """Compute the fitness (inverse tour cost) for all individuals."""
    return [1/tour_length(tour, dmat) for tour in population]

def select_best(population, dmat, k=2):
    """Select k best individuals based on shortest distance."""
    distances = [tour_length(t, dmat) for t in population]
    indices = sorted(range(len(distances)), key=lambda i: distances[i])[:k]
    return [population[i] for i in indices]

def crossover(parent1, parent2):
    """Order crossover (OX) operator."""
    size = len(parent1)
    a, b = sorted(random.sample(range(size), 2))
    child = [None] * size
    child[a:b+1] = parent1[a:b+1]
    pointer = 0
    for city in parent2:
        if city not in child:
            while child[pointer] is not None:
                pointer += 1
            child[pointer] = city
    return child

def mutate(tour, mutation_rate=0.1):
    """Mutate a tour by swapping cities with a given probability."""
    for i in range(len(tour)):
        if random.random() < mutation_rate:
            j = random.randint(0, len(tour) - 1)
            tour[i], tour[j] = tour[j], tour[i]
    return tour

def genetic_algorithm_tsp(
    cities,
    pop_size=100,
    mutation_rate=0.05,
    n_generations=500,
    elite_size=2
):
    dmat = distance_matrix(cities)
    population = initialize_population(pop_size, len(cities))

    best_tour = None
    best_dist = float("inf")
    history = []

    for gen in range(n_generations):
        # Evaluate and track best
        distances = [tour_length(t, dmat) for t in population]
        min_idx = np.argmin(distances)
        if distances[min_idx] < best_dist:
            best_dist = distances[min_idx]
            best_tour = population[min_idx][:]
        history.append(best_dist)

        # Select elites
        elites = select_best(population, dmat, elite_size)

        # Generate new population
        new_population = elites[:]
        while len(new_population) < pop_size:
            parent1, parent2 = random.choices(population, k=2)
            child = crossover(parent1, parent2)
            child = mutate(child, mutation_rate)
            new_population.append(child)
        population = new_population

    return best_tour, best_dist, history, dmat

# --- Example run and Plotting ---

num_cities = 15
cities = create_cities(num_cities)
best_tour, best_distance, cost_history, dmat = genetic_algorithm_tsp(
    cities, pop_size=120, mutation_rate=0.05, n_generations=500, elite_size=2
)

# Plot best solution
route = np.array([cities[i] for i in best_tour + [best_tour[0]]])
plt.figure(figsize=(10, 5))
plt.subplot(1, 2, 1)
plt.plot(route[:, 0], route[:, 1], marker='o')
plt.title(f"Best TSP Tour\nDistance: {best_distance:.2f}")
plt.subplot(1, 2, 2)
plt.plot(cost_history)
plt.xlabel("Generation")
plt.ylabel("Best Tour Length")
plt.title("Convergence History")
plt.tight_layout()
plt.show()



%pip install tsplib95

import tsplib95
import numpy as np

# Load the TSPLIB-formatted TSP file
problem = tsplib95.load('att48.tsp')   # Replace with your filename

# Extract city coordinates sorted by node index (usually 1-based)
node_ids = sorted(problem.node_coords.keys())
cities = np.array([problem.node_coords[node_id] for node_id in node_ids])



n = len(cities)
dist_matrix = np.zeros((n, n))
for i in range(n):
    for j in range(n):
        # Note: node_ids are 1-based, so map i, j accordingly
        dist_matrix[i, j] = problem.get_weight(node_ids[i], node_ids[j])



def genetic_algorithm_tsp(
    cities,
    pop_size=100,
    mutation_rate=0.05,
    n_generations=500,
    elite_size=2,
    dmat=None
):
    if dmat is None:
        dmat = distance_matrix(cities)  # fallback for Euclidean coords
    population = initialize_population(pop_size, len(cities))

    best_tour = None
    best_dist = float("inf")
    history = []

    for gen in range(n_generations):
        # Evaluate and track best
        distances = [tour_length(t, dmat) for t in population]
        min_idx = np.argmin(distances)
        if distances[min_idx] < best_dist:
            best_dist = distances[min_idx]
            best_tour = population[min_idx][:]
        history.append(best_dist)

        # Select elites
        elites = select_best(population, dmat, elite_size)

        # Generate new population
        new_population = elites[:]
        while len(new_population) < pop_size:
            parent1, parent2 = random.choices(population, k=2)
            child = crossover(parent1, parent2)
            child = mutate(child, mutation_rate)
            new_population.append(child)
        population = new_population

    return best_tour, best_dist, history, dmat


import matplotlib.pyplot as plt

# Use the first tour from best_tours
tour = best_tours[0]
route = np.array([cities[i] for i in tour + [tour[0]]])
plt.figure(figsize=(10, 5))

plt.subplot(1, 2, 1)
plt.plot(route[:, 0], route[:, 1], marker='o')
plt.title("Best TSP Tour")

plt.tight_layout()
plt.show()




